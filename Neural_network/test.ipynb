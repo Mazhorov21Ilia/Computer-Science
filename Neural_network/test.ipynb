{
  "nbformat": 4,
  "nbformat_minor": 0,
  "metadata": {
    "colab": {
      "provenance": [],
      "authorship_tag": "ABX9TyMpQkYk7Zfpm9Ju2C6IQ6dz",
      "include_colab_link": true
    },
    "kernelspec": {
      "name": "python3",
      "display_name": "Python 3"
    },
    "language_info": {
      "name": "python"
    }
  },
  "cells": [
    {
      "cell_type": "markdown",
      "metadata": {
        "id": "view-in-github",
        "colab_type": "text"
      },
      "source": [
        "<a href=\"https://colab.research.google.com/github/Mazhorov21Ilia/Computer-Science/blob/main/Neural_network/test.ipynb\" target=\"_parent\"><img src=\"https://colab.research.google.com/assets/colab-badge.svg\" alt=\"Open In Colab\"/></a>"
      ]
    },
    {
      "cell_type": "code",
      "execution_count": 2,
      "metadata": {
        "id": "xyleBWSqdxrg"
      },
      "outputs": [],
      "source": [
        "import torch\n",
        "import torch.nn as nn\n",
        "import torch.nn.functional as F\n",
        "\n",
        "import torchvision as tv\n",
        "\n",
        "import os\n",
        "import cv2\n",
        "import numpy as np\n",
        "import matplotlib.pyplot as plt\n",
        "from tqdm.autonotebook import tqdm"
      ]
    },
    {
      "cell_type": "code",
      "source": [
        "class VGG(nn.Module):\n",
        "  def _init_(self):\n",
        "    super().__init__()\n",
        "\n",
        "    self.act = nn.ReLU(inplace=True)\n",
        "    self.maxpool = nn.MaxPool2d(2,2)\n",
        "    self.con1_1 = nn.Conv2d(3, 64, kernel_size=3, padding=1)\n",
        "    self.con1_2 = nn.Conv2d(64, 64, kernel_size=3, padding=1)\n",
        "\n",
        "    self.con2_1 = nn.Conv2d(64, 128, kernel_size=3, padding=1)\n",
        "    self.con2_2 = nn.Conv2d(128, 128, kernel_size=3, padding=1)\n",
        "\n",
        "    self.con3_1 = nn.Conv2d(128, 256, kernel_size=3, padding=1)\n",
        "    self.con3_2 = nn.Conv2d(256, 256, kernel_size=3, padding=1)\n",
        "    self.con3_3 = nn.Conv2d(256, 256, kernel_size=3, padding=1)\n",
        "\n",
        "    self.con4_1 = nn.Conv2d(256, 512, kernel_size=3, padding=1)\n",
        "    self.con4_2 = nn.Conv2d(512, 512, kernel_size=3, padding=1)\n",
        "    self.con4_3 = nn.Conv2d(512, 512, kernel_size=3, padding=1)\n",
        "\n",
        "    self.con5_1 = nn.Conv2d(512, 512, kernel_size=3, padding=1)\n",
        "    self.con5_2 = nn.Conv2d(512, 512, kernel_size=3, padding=1)\n",
        "    self.con5_3 = nn.Conv2d(512, 512, kernel_size=3, padding=1)\n",
        "\n",
        "    self.flat = nn.Flatten()\n",
        "\n",
        "    self.fc1 = nn.Linear(7*7*512, 4096)\n",
        "    self.fc2 = nn.Linear(4096, 4096)\n",
        "    self.fc3 = nn.Linear(4096, out_nc)\n",
        "\n",
        "  def forward(self, x):\n",
        "\n",
        "    x = self.conv1_1(x)\n",
        "    x = self.act(x)\n",
        "    x = self.conv1_2(x)\n",
        "    x = self.act(x)\n",
        "\n",
        "    x = self.maxpool(x)\n",
        "\n",
        "    x = self.conv2_1(x)\n",
        "    x = self.act(x)\n",
        "    x = self.conv2_2(x)\n",
        "    x = self.act(x)\n",
        "\n",
        "    x = self.maxpool(x)\n",
        "\n",
        "    x = self.conv3_1(x)\n",
        "    x = self.act(x)\n",
        "    x = self.conv3_2(x)\n",
        "    x = self.act(x)\n",
        "    x = self.conv3_3(x)\n",
        "    x = self.act(x)\n",
        "\n",
        "    x = self.maxpool(x)\n",
        "\n",
        "    x = self.conv4_1(x)\n",
        "    x = self.act(x)\n",
        "    x = self.conv4_2(x)\n",
        "    x = self.act(x)\n",
        "    x = self.conv4_3(x)\n",
        "    x = self.act(x)\n",
        "\n",
        "    x = self.maxpool(x)\n",
        "\n",
        "    x = self.conv5_1(x)\n",
        "    x = self.act(x)\n",
        "    x = self.conv5_2(x)\n",
        "    x = self.act(x)\n",
        "    x = self.conv5_3(x)\n",
        "    x = self.act(x)\n",
        "\n",
        "    x = self.maxpool(x)\n",
        "    x = self.flatt(x)\n",
        "\n",
        "    x = self.fc1(x)\n",
        "    x = self.act(x)\n",
        "    x = self.fc2(x)\n",
        "    x = self.act(x)\n",
        "    x = self.fc3(x)\n",
        "    return x"
      ],
      "metadata": {
        "id": "WFsWJhsRfDfD"
      },
      "execution_count": null,
      "outputs": []
    }
  ]
}